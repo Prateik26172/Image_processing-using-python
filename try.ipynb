{
 "cells": [
  {
   "cell_type": "code",
   "execution_count": null,
   "metadata": {},
   "outputs": [],
   "source": [
    "# control flow and iterables"
   ]
  },
  {
   "cell_type": "code",
   "execution_count": 13,
   "metadata": {},
   "outputs": [
    {
     "name": "stdout",
     "output_type": "stream",
     "text": [
      "True\n"
     ]
    }
   ],
   "source": [
    "def variable_check():\n",
    "    set_variables=5\n",
    "    if set_variables>10:\n",
    "        print(False) \n",
    "    elif set_variables<10:\n",
    "        print(True)\n",
    "    else :\n",
    "        print(False)\n",
    "variable_check()\n"
   ]
  },
  {
   "cell_type": "code",
   "execution_count": 16,
   "metadata": {},
   "outputs": [
    {
     "name": "stdout",
     "output_type": "stream",
     "text": [
      "cat is an animal\n",
      "cow is an animal\n",
      "tiger is an animal\n"
     ]
    }
   ],
   "source": [
    "#Another \n",
    "for animal in [\"cat\",\"cow\",\"tiger\"]:\n",
    "    print(\"{} is an animal\".format(animal))"
   ]
  },
  {
   "cell_type": "code",
   "execution_count": 18,
   "metadata": {},
   "outputs": [
    {
     "name": "stdout",
     "output_type": "stream",
     "text": [
      "4\n",
      "5\n",
      "6\n",
      "7\n"
     ]
    }
   ],
   "source": [
    "for i in range(4,8):\n",
    "    print(i)"
   ]
  },
  {
   "cell_type": "code",
   "execution_count": 19,
   "metadata": {},
   "outputs": [],
   "source": [
    "#Enumerate defn\n",
    "# Often, when dealing with iterators, we also need to keep a count of iterations. \n",
    "# Python eases the programmers’ task by providing a built-in function enumerate() for this task. \n",
    "# The enumerate () method adds a counter to an iterable and returns it in the form of an enumerating object. \n",
    "# This enumerated object can then be used directly for loops or converted into a list of tuples using the list() function.\n",
    "# syntax: enumerate(iterable, start=0)\n",
    "\n",
    "# Iterable: any object that supports iteration\n",
    "# Start: the index value from which the counter is to be started, by default it is 0\n",
    "# Return: Returns an iterator with index and element pairs from the original iterable"
   ]
  },
  {
   "cell_type": "code",
   "execution_count": 21,
   "metadata": {},
   "outputs": [
    {
     "name": "stdout",
     "output_type": "stream",
     "text": [
      "0 cat\n",
      "1 tiger\n",
      "2 lion\n"
     ]
    }
   ],
   "source": [
    "animals =[\"cat\", \"tiger\", \"lion\"]\n",
    "for i,value in enumerate(animals):\n",
    "    print(i,value)"
   ]
  },
  {
   "cell_type": "code",
   "execution_count": 25,
   "metadata": {},
   "outputs": [
    {
     "name": "stdout",
     "output_type": "stream",
     "text": [
      "30\n"
     ]
    }
   ],
   "source": [
    "# sum of all even numbers from 1 to n \n",
    "\n",
    "\n",
    "def sum_of_even(N):\n",
    "    total = 0\n",
    "    for i in range(2, N+1, 2): #(2,11,2) ani replace le 2 ko diff ma 2 dekhi value ligdai jancha and stops in 10 as last element is discarded\n",
    "        total += i\n",
    "    return total\n",
    "\n",
    "print(sum_of_even(10))  \n",
    "   "
   ]
  },
  {
   "cell_type": "code",
   "execution_count": 8,
   "metadata": {},
   "outputs": [
    {
     "name": "stdout",
     "output_type": "stream",
     "text": [
      "20\n",
      "21\n"
     ]
    }
   ],
   "source": [
    "#absolute value which is also called modulus\n",
    "print(abs(20)) # it gives absolute values\n",
    "print(abs(-21)) # it gives 20 cause i am asking absolute value"
   ]
  },
  {
   "cell_type": "code",
   "execution_count": null,
   "metadata": {},
   "outputs": [],
   "source": []
  }
 ],
 "metadata": {
  "kernelspec": {
   "display_name": "myvenv",
   "language": "python",
   "name": "python3"
  },
  "language_info": {
   "codemirror_mode": {
    "name": "ipython",
    "version": 3
   },
   "file_extension": ".py",
   "mimetype": "text/x-python",
   "name": "python",
   "nbconvert_exporter": "python",
   "pygments_lexer": "ipython3",
   "version": "3.12.1"
  }
 },
 "nbformat": 4,
 "nbformat_minor": 2
}
